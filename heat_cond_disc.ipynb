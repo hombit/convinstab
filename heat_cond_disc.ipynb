{
 "cells": [
  {
   "cell_type": "markdown",
   "metadata": {},
   "source": [
    "## Save or not plotted figures to EPS"
   ]
  },
  {
   "cell_type": "code",
   "execution_count": 1,
   "metadata": {
    "collapsed": true
   },
   "outputs": [],
   "source": [
    "SAVEFIGS = True"
   ]
  },
  {
   "cell_type": "markdown",
   "metadata": {},
   "source": [
    "## Import"
   ]
  },
  {
   "cell_type": "code",
   "execution_count": 2,
   "metadata": {
    "collapsed": false
   },
   "outputs": [],
   "source": [
    "%matplotlib inline\n",
    "import matplotlib.pyplot as plt\n",
    "from matplotlib import rc\n",
    "import numpy as np\n",
    "from fractions import Fraction\n",
    "from scipy import optimize\n",
    "from scipy import integrate\n",
    "from scipy.special import hyp2f1\n",
    "\n",
    "rc('ps', fonttype=42)\n",
    "rc('pdf', fonttype=42)\n",
    "rc('text', usetex=True)"
   ]
  },
  {
   "cell_type": "markdown",
   "metadata": {},
   "source": [
    "## Introduce basic class"
   ]
  },
  {
   "cell_type": "code",
   "execution_count": 3,
   "metadata": {
    "collapsed": false
   },
   "outputs": [],
   "source": [
    "class WhereAdiabatic(object):\n",
    "    def __init__(self, A, Pr=0.052, dlnOmega_dlnR=1.5, cp=2.5):\n",
    "        self.__A = A\n",
    "        self.__Pr = Pr\n",
    "        self.__dlnOmega_dlnR = dlnOmega_dlnR\n",
    "        self.__cp = cp\n",
    "        self.__hyp1 = self._hyp(1)\n",
    "        self.__free_coef_of_func_to_minimize = (2*self.__A+2)/(2*self.__A+1) * self.__dlnOmega_dlnR**2 * self.__Pr\n",
    "       \n",
    "        # '2c_v / \\xi^2'\n",
    "        self.__coef_for_conv_xy = (self.__A+1)**2/(2*self.__A+1) * (2*2*self.__Pr*self.__dlnOmega_dlnR**2) / self.__hyp1**2\n",
    "    \n",
    "    @property\n",
    "    def hyp1(self):\n",
    "        return self.__hyp1\n",
    "    \n",
    "    @property\n",
    "    def dlnOmega_dlnR(self):\n",
    "        return self.__dlnOmega_dlnR\n",
    "    \n",
    "    @property\n",
    "    def cp(self):\n",
    "        return self.__cp\n",
    "    \n",
    "    def _hyp(self, arg):\n",
    "        return hyp2f1(0.5, (self.__A+1)/(2*self.__A+1), (3*self.__A+2)/(2*self.__A+1), arg)\n",
    "\n",
    "    def _func_to_minimize(self, y, f):\n",
    "        if y == 1:\n",
    "            return - np.sign( self._func_to_minimize(0, 1) ) * np.inf\n",
    "        return (\n",
    "            y**self.__A\n",
    "                / np.sqrt(1-y**(2*self.__A+1))\n",
    "                * ( self.__hyp1 - y**(self.__A+1) * self._hyp(y**(2*self.__A+1)) )\n",
    "            - f\n",
    "        )\n",
    "    \n",
    "    def _x(self, y):\n",
    "        return 1 - y**(self.__A+1) * self._hyp(y**(2*self.__A+1)) / self.__hyp1\n",
    "    \n",
    "    def xy(self):\n",
    "        y = optimize.brentq(\n",
    "            self._func_to_minimize,\n",
    "            0., 1.,\n",
    "            args = (self.__free_coef_of_func_to_minimize, ),\n",
    "        )\n",
    "\n",
    "        x = self._x(y)\n",
    "        \n",
    "        return x, y\n",
    "    \n",
    "    def x_conv_max(self):\n",
    "        x_lcb, y_lcb = self.xy()\n",
    "        return np.sqrt( y_lcb*self.__coef_for_conv_xy + x_lcb**2 )\n",
    "    \n",
    "    def x_adiab_func(self):\n",
    "        x_lcb, y_lcb = self.xy() # lcb - laminar-convective border\n",
    "        return lambda y: np.sqrt( (y_lcb-y)*self.__coef_for_conv_xy + x_lcb**2 )\n",
    "    \n",
    "    def _func_to_integrate_rho(self, rho, y):\n",
    "        coef = (2*self.__A+1)/(self.__A+1) * self.__cp / (2*self.__Pr*self.__dlnOmega_dlnR**2) * self.__hyp1\n",
    "        if y == 1:\n",
    "            return 0\n",
    "        else:\n",
    "            return - 1/y + coef * self._x(y) / y / np.sqrt(y**(-2*self.__A)-y)\n",
    "    \n",
    "    def rho_func(self):\n",
    "        return lambda ys: np.exp(\n",
    "            integrate.odeint(\n",
    "                self._func_to_integrate_rho,\n",
    "                0.,\n",
    "                ys,\n",
    "            )\n",
    "        )[:,0]\n",
    "    \n",
    "    def rho_conv_func(self):\n",
    "        x_lcb, y_lcb = self.xy()\n",
    "        rho_lcb = self.rho_func()([1, y_lcb])[-1]\n",
    "        return lambda y: rho_lcb * (y/y_lcb)**(self.__cp-1)"
   ]
  },
  {
   "cell_type": "markdown",
   "metadata": {},
   "source": [
    "## Plot vertical temperature distribution of both laminar and convective layers"
   ]
  },
  {
   "cell_type": "code",
   "execution_count": 4,
   "metadata": {
    "collapsed": false,
    "scrolled": false
   },
   "outputs": [
    {
     "name": "stdout",
     "output_type": "stream",
     "text": [
      "Border x = 0.938370914893071\n",
      "Border y = 0.3717292952767207\n",
      "Border rho = 0.00025451480896765785\n"
     ]
    },
    {
     "data": {
      "image/png": "[encoded data removed]",
      "text/plain": [
       "<matplotlib.figure.Figure at 0x1127c2588>"
      ]
     },
     "metadata": {},
     "output_type": "display_data"
    }
   ],
   "source": [
    "A = 2.5\n",
    "Pr = 0.052\n",
    "w = WhereAdiabatic(A=A, Pr=Pr)\n",
    "Pr_crit = w.dlnOmega_dlnR**(-2)\n",
    "\n",
    "x_max = w.x_conv_max()\n",
    "if Pr < Pr_crit:\n",
    "    x_lcb, y_lcb = w.xy()\n",
    "    x_lcb /= x_max\n",
    "    ys_laminar = np.linspace(1., y_lcb, 1000)\n",
    "    xs_laminar = w._x(ys_laminar) / x_max\n",
    "    ys_conv = np.linspace(y_lcb, 0, 1000)\n",
    "else:\n",
    "    x_lcb, y_lcb = 0, 1\n",
    "    ys_conv = np.linspace(1.,    0., 1000)\n",
    "    \n",
    "xs_conv = w.x_adiab_func()(ys_conv) / x_max\n",
    "\n",
    "print('Border x = {}'.format(x_lcb))\n",
    "print('Border y = {}'.format(y_lcb))\n",
    "print('Border rho = {}'.format(w.rho_func()([1, y_lcb])[-1]))\n",
    "\n",
    "plt.cla()\n",
    "plt.title(r'$a$ = {0}, $b$ = {0}, Pr = {1}'.format(Fraction(A), Pr))\n",
    "plt.xlabel(r'$x$')\n",
    "plt.ylabel(r'$\\theta$')\n",
    "if Pr < Pr_crit:\n",
    "    plt.plot(\n",
    "        xs_laminar, ys_laminar,\n",
    "        'k-', linewidth=1,\n",
    "        label='laminar',\n",
    "    )\n",
    "#     plt.plot(\n",
    "#     xs_laminar, w.rho_func()(ys_laminar) * ys_laminar,\n",
    "#     'k-', linewidth=1,\n",
    "#     label=r'laminar $p$',\n",
    "#     )\n",
    "plt.plot(\n",
    "    xs_conv, ys_conv,\n",
    "    'k-.', linewidth=1,\n",
    "    label='convective',\n",
    ")\n",
    "# plt.plot(\n",
    "#     xs_conv, w.rho_conv_func()(ys_conv) * ys_conv,\n",
    "#     'k--', linewidth=1,\n",
    "#     label=r'convective $p$',\n",
    "# )\n",
    "plt.plot(\n",
    "    [x_lcb, x_lcb], [0,1],\n",
    "    'k--', linewidth='0.5',\n",
    ")\n",
    "plt.plot(\n",
    "    [0, 1], [y_lcb, y_lcb],\n",
    "    'k--', linewidth='0.5',\n",
    ")\n",
    "plt.xticks(\n",
    "    plt.xticks()[0].tolist() + [x_lcb],\n",
    "    list(map(str,plt.xticks()[0])) + [r'$x_*$']\n",
    ")\n",
    "plt.legend(loc='best')\n",
    "ax = plt.twinx()\n",
    "ax.set_yticks( (y_lcb,) )\n",
    "ax.set_yticklabels( (r'$\\theta_*$',) )\n",
    "# plt.yticks(\n",
    "#     plt.yticks()[0].tolist() + [y_lcb],\n",
    "#     list(map(str,plt.yticks()[0])) + [r'$\\theta^*$']\n",
    "# )\n",
    "\n",
    "if SAVEFIGS:\n",
    "    plt.savefig('microcond_a{}_Pr{}.eps'.format(A, Pr))"
   ]
  },
  {
   "cell_type": "markdown",
   "metadata": {},
   "source": [
    "## Plot semiheight of laminar zone for different Prandtl numbers"
   ]
  },
  {
   "cell_type": "code",
   "execution_count": 5,
   "metadata": {
    "collapsed": false
   },
   "outputs": [
    {
     "data": {
      "image/png": "[encoded data removed]",
      "text/plain": [
       "<matplotlib.figure.Figure at 0x1127e8a58>"
      ]
     },
     "metadata": {},
     "output_type": "display_data"
    }
   ],
   "source": [
    "n = 1000\n",
    "\n",
    "A = np.array([2.5, 0.5])\n",
    "Pr = np.linspace(0, 4/9., n)\n",
    "\n",
    "plt.cla()\n",
    "plt.xlabel('Pr')\n",
    "plt.ylabel('$x_*$')\n",
    "\n",
    "xy_adiab = np.empty( (n, 2,) )\n",
    "for j in range(A.shape[0]):\n",
    "    for i in range(n):\n",
    "        w = WhereAdiabatic(A=A[j], Pr=Pr[i])\n",
    "        xy_adiab[i] = w.xy() / np.array([w.x_conv_max(),1.])\n",
    "    plt.plot(\n",
    "        Pr, xy_adiab[:,0],\n",
    "        'k'+'-'*(j+1),\n",
    "        label=r'a = {0}, b = {0}'.format(Fraction(A[j]))\n",
    "    )\n",
    "\n",
    "plt.legend(loc=0)    \n",
    "    \n",
    "if SAVEFIGS:\n",
    "    plt.savefig('xlcb_Pr.eps')"
   ]
  },
  {
   "cell_type": "markdown",
   "metadata": {},
   "source": [
    "## Plot semiheight parameter xi as a function of Pr"
   ]
  },
  {
   "cell_type": "code",
   "execution_count": 6,
   "metadata": {
    "collapsed": false
   },
   "outputs": [
    {
     "data": {
      "image/png": "[encoded data removed]",
      "text/plain": [
       "<matplotlib.figure.Figure at 0x1129d1518>"
      ]
     },
     "metadata": {},
     "output_type": "display_data"
    }
   ],
   "source": [
    "n = 1000\n",
    "\n",
    "Pr = np.logspace(-2, 1, n)\n",
    "A = (2.5, 0.5)\n",
    "\n",
    "plt.cla()\n",
    "plt.xscale('log')\n",
    "plt.yscale('log')\n",
    "plt.ylim((1, 10))\n",
    "plt.xticks(\n",
    "    (0.01, 0.1, 4./9., 1, 10),\n",
    "    (0.01, 0.1, '4/9', 1, 10)\n",
    ")\n",
    "plt.yticks(\n",
    "    (1  , np.sqrt(3) , 10),\n",
    "    (1, r'$\\sqrt{3}$', 10)\n",
    ")\n",
    "plt.xlabel('Pr')\n",
    "plt.ylabel(r'$\\xi$')\n",
    "\n",
    "plt.plot(\n",
    "    Pr, np.sqrt(3)*np.ones_like(Pr),\n",
    "    'k-.', linewidth=0.5\n",
    ")\n",
    "plt.annotate(r'$\\xi = \\sqrt{3}$', (3, 1.85))\n",
    "\n",
    "for j in range(2):\n",
    "    xi = np.empty_like(Pr)\n",
    "\n",
    "    for i in range(n):\n",
    "        w = WhereAdiabatic(A=A[j], Pr=Pr[i])\n",
    "        x_lcb, y_lcb = w.xy()\n",
    "        x_max = w.x_conv_max()\n",
    "        x_lcb /= x_max\n",
    "        xi[i] = np.sqrt( 2 * (w.cp-1) * y_lcb / (1-x_lcb**2) )\n",
    "    \n",
    "    plt.plot(\n",
    "        Pr, xi,\n",
    "        'k' + '-'*(j+1),\n",
    "        label=r'a = {0}, b = {0}'.format(Fraction(A[j])),\n",
    "    )\n",
    "    # plt.plot(\n",
    "    #     4./9. * np.ones_like(plt.yticks()[0]), plt.yticks()[0],\n",
    "    #     'k--', linewidth=0.5\n",
    "    # )\n",
    "    xi_asymp = np.sqrt((2*A[j]+1)/(2*Pr/(w.cp-1)*w.dlnOmega_dlnR**2)) / (A[j]+1) * w.hyp1\n",
    "    plt.plot(\n",
    "        Pr, xi_asymp,\n",
    "        'k-.', linewidth=0.5\n",
    "    )\n",
    "\n",
    "plt.annotate(r'$\\xi \\sim$ Pr$^{-1/2}$', (0.04*1.2, xi_asymp[np.searchsorted(Pr, 0.04)]))\n",
    "plt.legend(loc='best')\n",
    "\n",
    "if SAVEFIGS:\n",
    "    plt.savefig('xi_Pr.eps')"
   ]
  }
 ],
 "metadata": {
  "kernelspec": {
   "display_name": "Python 3",
   "language": "python",
   "name": "python3"
  },
  "language_info": {
   "codemirror_mode": {
    "name": "ipython",
    "version": 3
   },
   "file_extension": ".py",
   "mimetype": "text/x-python",
   "name": "python",
   "nbconvert_exporter": "python",
   "pygments_lexer": "ipython3",
   "version": "3.5.1"
  }
 },
 "nbformat": 4,
 "nbformat_minor": 0
}
