{
 "cells": [
  {
   "cell_type": "code",
   "execution_count": 2,
   "metadata": {
    "collapsed": false
   },
   "outputs": [],
   "source": [
    "%matplotlib inline\n",
    "import matplotlib.pyplot as plt\n",
    "import numpy as np\n",
    "from ketsaris_like import FindPi\n",
    "from scipy import optimize\n",
    "from multiprocessing import Pool"
   ]
  },
  {
   "cell_type": "code",
   "execution_count": 27,
   "metadata": {
    "collapsed": false
   },
   "outputs": [
    {
     "name": "stderr",
     "output_type": "stream",
     "text": [
      "/usr/local/lib/python3.5/site-packages/scipy/integrate/odepack.py:218: ODEintWarning: Excess work done on this call (perhaps wrong Dfun type). Run with full_output = 1 to get quantitative information.\n",
      "  warnings.warn(warning_msg, ODEintWarning)\n"
     ]
    },
    {
     "data": {
      "image/png": "[encoded data removed]",
      "text/plain": [
       "<matplotlib.figure.Figure at 0x110de3f60>"
      ]
     },
     "metadata": {},
     "output_type": "display_data"
    }
   ],
   "source": [
    "bs = np.arange(2,21)\n",
    "\n",
    "plt.xlim([0, bs.max()])\n",
    "plt.xlabel(r'b')\n",
    "plt.ylabel(r'$\\mathrm{d}\\log T / \\mathrm{d}\\log P$ at $x = \\sigma = 0$')\n",
    "\n",
    "for b in bs:\n",
    "    fp = FindPi(1e6, heating=(b, 0.), transfer='absorption')\n",
    "    Nc = fp.dlogTdlogP_centr()\n",
    "    absorption, = plt.plot(b, Nc, 'k*')\n",
    "absorption.set_label(\"Kramer's opacity\")\n",
    "    \n",
    "for b in bs:\n",
    "    fp = FindPi(1e6, heating=(b, 0.), transfer='scattering')\n",
    "    Nc = fp.dlogTdlogP_centr()\n",
    "    scattering, = plt.plot(b, Nc, 'kx')\n",
    "scattering.set_label(\"Thomson scattering\")\n",
    "\n",
    "c = np.fromstring('-0.08458126  0.01351309  0.03030497  0.12380213 -0.0755892', sep=' ')\n",
    "#plt.plot(bs, 0.4 + c[0] + c[1]*bs + c[2]*fp.d + c[3]*fp.varsigma + c[4]*fp.psi)\n",
    "plt.plot(plt.xlim(), 0.4*np.ones_like(plt.xlim()), 'k-', linewidth=0.5)\n",
    "plt.legend(loc='best')\n",
    "plt.savefig('dlogTdlogP.eps')\n",
    "\n",
    "########################\n",
    "\n",
    "# ds = np.linspace(0,2,10)\n",
    "\n",
    "# plt.xlabel(r'd')\n",
    "# plt.ylabel(r'$\\mathrm{d}\\log T / \\mathrm{d}\\log P$')\n",
    "# plt.plot(ds, 0.4*np.ones_like(ds))\n",
    "\n",
    "# for d in ds:\n",
    "#     fp = FindPi(1e6, heating=(2.5, d), transfer='scattering')\n",
    "#     Nc = fp.dlogTdlogP_centr()\n",
    "#     plt.plot(d, Nc, 'kx')\n",
    "# #plt.plot(ds, 0.4 + c[0] + c[1]*fp.b + c[2]*ds + c[3]*fp.varsigma + c[4]*fp.psi)\n",
    "# plt.show()"
   ]
  },
  {
   "cell_type": "code",
   "execution_count": 50,
   "metadata": {
    "collapsed": false
   },
   "outputs": [
    {
     "name": "stderr",
     "output_type": "stream",
     "text": [
      "/usr/local/lib/python3.5/site-packages/scipy/integrate/odepack.py:218: ODEintWarning: Excess work done on this call (perhaps wrong Dfun type). Run with full_output = 1 to get quantitative information.\n",
      "  warnings.warn(warning_msg, ODEintWarning)\n"
     ]
    },
    {
     "name": "stdout",
     "output_type": "stream",
     "text": [
      "For absorption b = 18.53549667749216\n",
      "For scattering b = 7.97085487805288\n"
     ]
    }
   ],
   "source": [
    "for transfer, b0 in (('absorption', 18), ('scattering', 8),):\n",
    "    b, rootres = optimize.brentq(\n",
    "        lambda b: FindPi(1e6, heating=(b, 0), transfer=transfer).dlogTdlogP_centr() - 0.4,\n",
    "        a = 0.9 * b0,\n",
    "        b = 1.1 * b0,\n",
    "        xtol = 1e-2,\n",
    "        full_output = True,\n",
    "    )\n",
    "    print('For {} b = {}'.format(transfer, b))"
   ]
  },
  {
   "cell_type": "code",
   "execution_count": null,
   "metadata": {
    "collapsed": true
   },
   "outputs": [],
   "source": []
  }
 ],
 "metadata": {
  "kernelspec": {
   "display_name": "Python 3",
   "language": "python",
   "name": "python3"
  },
  "language_info": {
   "codemirror_mode": {
    "name": "ipython",
    "version": 3
   },
   "file_extension": ".py",
   "mimetype": "text/x-python",
   "name": "python",
   "nbconvert_exporter": "python",
   "pygments_lexer": "ipython3",
   "version": "3.5.1"
  }
 },
 "nbformat": 4,
 "nbformat_minor": 0
}
